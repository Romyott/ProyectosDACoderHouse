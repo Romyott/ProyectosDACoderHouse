{
 "cells": [
  {
   "cell_type": "code",
   "execution_count": 1,
   "id": "afc562ce",
   "metadata": {},
   "outputs": [],
   "source": [
    "#Entrega 01"
   ]
  },
  {
   "cell_type": "code",
   "execution_count": 1,
   "id": "8c2d7f34",
   "metadata": {},
   "outputs": [
    {
     "name": "stdout",
     "output_type": "stream",
     "text": [
      "720\n",
      "No es valido el factorial de un numero negativo, intente de nuevo\n",
      "1\n"
     ]
    }
   ],
   "source": [
    "#entregable 1\n",
    "#Escribir una función para calcular el factorial de un número cualquiera.\n",
    "\n",
    "def CalculoFactorial(x):\n",
    "    if x < 0 :\n",
    "        return (\"No es valido el factorial de un numero negativo, intente de nuevo\")\n",
    "    elif x == 0:\n",
    "        return 1\n",
    "    else:\n",
    "        fact=1\n",
    "        while(x > 1):\n",
    "            fact *= x \n",
    "            x -= 1\n",
    "        return fact\n",
    "\n",
    "#comprobacion\n",
    "print(CalculoFactorial(6))  \n",
    "print(CalculoFactorial(-5))\n",
    "print(CalculoFactorial(0))  "
   ]
  },
  {
   "cell_type": "code",
   "execution_count": 8,
   "id": "28a7e37f",
   "metadata": {},
   "outputs": [
    {
     "name": "stdout",
     "output_type": "stream",
     "text": [
      "4\n",
      "9\n",
      "15\n",
      "22\n",
      "30\n",
      "39\n",
      "49\n",
      "None\n",
      "Los valores deben ser diferentes, e i debe ser menor a j, intente de nuevo\n",
      "i debe ser menor a j, intente de nuevo\n"
     ]
    }
   ],
   "source": [
    "#entregable 2\n",
    "#Escribir una función para calcular la suma de una serie comenzando por un número cualquiera \n",
    "#y terminando en otro número que debe ser mayor al primero.\n",
    "\n",
    "def SumatoriaRangos (i,j):\n",
    "    suma = 0\n",
    "    if i < j:\n",
    "        for i in range (i,j+1):\n",
    "            suma += i \n",
    "            print(suma)\n",
    "    elif i == j:\n",
    "        return(\"Los valores deben ser diferentes, e i debe ser menor a j, intente de nuevo\")\n",
    "    else:\n",
    "        return(\"i debe ser menor a j, intente de nuevo\")\n",
    "\n",
    "#pruebas\n",
    "print(SumatoriaRangos(4,10))\n",
    "print(SumatoriaRangos(2,2))\n",
    "print(SumatoriaRangos(7,2))"
   ]
  }
 ],
 "metadata": {
  "kernelspec": {
   "display_name": "Python 3 (ipykernel)",
   "language": "python",
   "name": "python3"
  },
  "language_info": {
   "codemirror_mode": {
    "name": "ipython",
    "version": 3
   },
   "file_extension": ".py",
   "mimetype": "text/x-python",
   "name": "python",
   "nbconvert_exporter": "python",
   "pygments_lexer": "ipython3",
   "version": "3.9.5"
  }
 },
 "nbformat": 4,
 "nbformat_minor": 5
}
